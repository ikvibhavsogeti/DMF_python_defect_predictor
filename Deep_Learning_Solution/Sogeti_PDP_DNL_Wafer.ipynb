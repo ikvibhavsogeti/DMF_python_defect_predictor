{
  "nbformat": 4,
  "nbformat_minor": 0,
  "metadata": {
    "colab": {
      "name": "Sogeti_PDP_DNL_Wafer.ipynb",
      "provenance": [],
      "collapsed_sections": []
    },
    "kernelspec": {
      "display_name": "Python 3",
      "name": "python3"
    },
    "language_info": {
      "name": "python"
    }
  },
  "cells": [
    {
      "cell_type": "code",
      "metadata": {
        "colab": {
          "base_uri": "https://localhost:8080/"
        },
        "id": "dzLKpmZICaWN",
        "outputId": "c8abd310-a46f-46d3-8c32-be04de70a7f8"
      },
      "source": [
        "# TensorFlow and tf.keras\n",
        "import tensorflow as tf\n",
        "\n",
        "# Helper libraries\n",
        "import numpy as np\n",
        "import matplotlib.pyplot as plt\n",
        "from sklearn.model_selection import train_test_split\n",
        "\n",
        "print(tf.__version__)"
      ],
      "execution_count": 132,
      "outputs": [
        {
          "output_type": "stream",
          "name": "stdout",
          "text": [
            "2.6.0\n"
          ]
        }
      ]
    },
    {
      "cell_type": "code",
      "metadata": {
        "colab": {
          "base_uri": "https://localhost:8080/"
        },
        "id": "7MqDQO0KCaWS",
        "outputId": "fff58d64-0bf9-4538-91f4-d9cb8395c4f3"
      },
      "source": [
        "# Loading the DataSet\n",
        "wafer_data_set = np.load('Wafer_Map_Datasets.npz')\n",
        "wafer_images = wafer_data_set.f.arr_0\n",
        "defect_labels = wafer_data_set.f.arr_1 \n",
        "\n",
        "#Split Data in 80:20 for train:test dataset\n",
        "X_train, X_test , y_train, y_test = train_test_split(wafer_images, defect_labels, train_size=0.9)\n",
        "\n",
        "print(X_train.shape), print(y_train.shape)\n",
        "print(X_test.shape), print(y_test.shape)\n",
        "print(X_train.shape[1:])\n",
        "print(wafer_images.shape)"
      ],
      "execution_count": 133,
      "outputs": [
        {
          "output_type": "stream",
          "name": "stdout",
          "text": [
            "(34213, 52, 52)\n",
            "(34213, 8)\n",
            "(3802, 52, 52)\n",
            "(3802, 8)\n",
            "(52, 52)\n",
            "(38015, 52, 52)\n"
          ]
        }
      ]
    },
    {
      "cell_type": "code",
      "metadata": {
        "colab": {
          "base_uri": "https://localhost:8080/"
        },
        "id": "YrWYT0ozONkq",
        "outputId": "b51d0bd6-f0df-49b9-de70-58acb981612b"
      },
      "source": [
        "# Label Dictionary\n",
        "label_dict = {}\n",
        "label_dict[0] = \"Center\"\n",
        "label_dict[1] = \"Donut\"\n",
        "label_dict[2] = \"Edge Loc\"\n",
        "label_dict[3] = \"Edge Ring\"\n",
        "label_dict[4] = \"Loc\"\n",
        "label_dict[5] = \"Near Full\"\n",
        "label_dict[6] = \"Scratch\"\n",
        "label_dict[7] = \"Random\"\n",
        "\n",
        "defect_priority = {}\n",
        "defect_priority[0] = \"None\"\n",
        "defect_priority[1] = \"Medium\"\n",
        "defect_priority[2] = \"High\"\n",
        "defect_priority[3] = \"Very High\"\n",
        "defect_priority[4] = \"Critical\"\n",
        "print(label_dict)\n",
        "print(defect_priority)\n",
        "\n",
        "def label_extractor(prediction_vector):\n",
        "  '''\n",
        "  Extracts the Label name from the predicted output\n",
        "  '''\n",
        "  if sum(prediction_vector) == 0:\n",
        "    return [\"None\"], defect_priority[0]\n",
        "\n",
        "  predicted_label = []\n",
        "  for i in range(len(prediction_vector)):\n",
        "    if prediction_vector[i]:\n",
        "      predicted_label.append(label_dict[i])\n",
        "  \n",
        "  return predicted_label, defect_priority[sum(prediction_vector)]\n",
        "\n",
        "print(label_extractor([0,1,0,0,1,0,0,0]))"
      ],
      "execution_count": 134,
      "outputs": [
        {
          "output_type": "stream",
          "name": "stdout",
          "text": [
            "{0: 'Center', 1: 'Donut', 2: 'Edge Loc', 3: 'Edge Ring', 4: 'Loc', 5: 'Near Full', 6: 'Scratch', 7: 'Random'}\n",
            "{0: 'None', 1: 'Medium', 2: 'High', 3: 'Very High', 4: 'Critical'}\n",
            "(['Donut', 'Loc'], 'High')\n"
          ]
        }
      ]
    },
    {
      "cell_type": "code",
      "metadata": {
        "colab": {
          "base_uri": "https://localhost:8080/",
          "height": 269
        },
        "id": "Q9QxGObSQLqt",
        "outputId": "eaafdd5d-1d36-45b2-b588-57482b921993"
      },
      "source": [
        "# Data Pre-Processing\n",
        "\n",
        "## Data has 0-255 pixel value range \n",
        "plt.figure()\n",
        "#plt.imshow(X_train[12001])\n",
        "plt.imshow(wafer_images[5000])\n",
        "plt.colorbar()\n",
        "plt.grid(False)\n",
        "plt.show()"
      ],
      "execution_count": 135,
      "outputs": [
        {
          "output_type": "display_data",
          "data": {
            "image/png": "[encoded data removed]",
            "text/plain": [
              "<Figure size 432x288 with 2 Axes>"
            ]
          },
          "metadata": {
            "needs_background": "light"
          }
        }
      ]
    },
    {
      "cell_type": "code",
      "metadata": {
        "colab": {
          "base_uri": "https://localhost:8080/"
        },
        "id": "9ODch-OFCaW4",
        "outputId": "3294d3cd-d99a-4ad2-f53f-3a07392f281f"
      },
      "source": [
        "# Building up the Neural Network\n",
        "\n",
        "## 1st layer - Flatten/Unstacking: 52x52 -> 1x2704 (No Parameters, only reformatting the data)\n",
        "## 2nd layer - Dense: 128 nodes/neurons\n",
        "## 3rd layer - Dense: 8 nodes/neurons for 8 output classes\n",
        "\n",
        "#model = tf.keras.Sequential([\n",
        "#    tf.keras.layers.Flatten(input_shape=(X_train.shape[1], X_train.shape[2])),\n",
        "    #tf.keras.layers.Dense(512, activation='relu'),\n",
        "   #tf.keras.layers.Dense(256, activation='elu'),\n",
        "#    tf.keras.layers.Dense(128, activation='relu'),\n",
        "    #tf.keras.layers.Dropout(0.5),\n",
        "#    tf.keras.layers.Dense(64, activation='relu'),\n",
        "    #tf.keras.layers.Dropout(0.5),\n",
        "#    tf.keras.layers.Dense(8, activation='sigmoid')\n",
        "#])\n",
        "\n",
        "#input_shape_val = (X_train.shape[0], X_train.shape[1], X_train.shape[2])\n",
        "\n",
        "model = tf.keras.Sequential()\n",
        "model.add(tf.keras.layers.Conv2D(32, (3,3), activation='relu', input_shape=(X_train.shape[1], X_train.shape[2], 1)))\n",
        "model.add(tf.keras.layers.MaxPooling2D(2,2))\n",
        "model.add(tf.keras.layers.Conv2D(64, (3,3), activation='relu'))\n",
        "model.add(tf.keras.layers.MaxPooling2D(2,2))\n",
        "model.add(tf.keras.layers.Flatten())\n",
        "model.add(tf.keras.layers.Dense(64, activation='relu'))\n",
        "model.add(tf.keras.layers.Dense(8, activation='sigmoid'))\n",
        "\n",
        "#Cumpulsory to do this for CNN, Need to add a batch-axis!\n",
        "#https://stackoverflow.com/questions/66218328/mnist-cnn-valueerror-expected-min-ndim-4-found-ndim-3-full-shape-received-32\n",
        "X_train = np.expand_dims(X_train, axis=-1)\n",
        "#print(X_train.shape)\n",
        "model.summary()"
      ],
      "execution_count": 136,
      "outputs": [
        {
          "output_type": "stream",
          "name": "stdout",
          "text": [
            "Model: \"sequential_7\"\n",
            "_________________________________________________________________\n",
            "Layer (type)                 Output Shape              Param #   \n",
            "=================================================================\n",
            "conv2d_14 (Conv2D)           (None, 50, 50, 32)        320       \n",
            "_________________________________________________________________\n",
            "max_pooling2d_14 (MaxPooling (None, 25, 25, 32)        0         \n",
            "_________________________________________________________________\n",
            "conv2d_15 (Conv2D)           (None, 23, 23, 64)        18496     \n",
            "_________________________________________________________________\n",
            "max_pooling2d_15 (MaxPooling (None, 11, 11, 64)        0         \n",
            "_________________________________________________________________\n",
            "flatten_7 (Flatten)          (None, 7744)              0         \n",
            "_________________________________________________________________\n",
            "dense_14 (Dense)             (None, 64)                495680    \n",
            "_________________________________________________________________\n",
            "dense_15 (Dense)             (None, 8)                 520       \n",
            "=================================================================\n",
            "Total params: 515,016\n",
            "Trainable params: 515,016\n",
            "Non-trainable params: 0\n",
            "_________________________________________________________________\n"
          ]
        }
      ]
    },
    {
      "cell_type": "code",
      "metadata": {
        "id": "r3QeB8JOQOVL"
      },
      "source": [
        "# Compiling the model\n",
        "\n",
        "## Loss Function - Measures accuracy of model training\n",
        "## Optimizer - How model is updated based on data and Loss function\n",
        "## Metrics - Monitors training/testing steps (or incorrectly classified)\n",
        "\n",
        "#model.compile(loss='binary_crossentropy',\n",
        "#              optimizer=tf.keras.optimizers.Adam(0.0001),\n",
        "#              metrics = 'accuracy')\n",
        "\n",
        "#model.compile(loss='binary_crossentropy',\n",
        "#              optimizer=tf.keras.optimizers.Adam(0.0001))\n",
        "\n",
        "model.compile(loss='binary_crossentropy',\n",
        "              optimizer=tf.keras.optimizers.Adam(0.0001),\n",
        "              metrics = ['accuracy'])\n"
      ],
      "execution_count": 137,
      "outputs": []
    },
    {
      "cell_type": "code",
      "metadata": {
        "colab": {
          "base_uri": "https://localhost:8080/",
          "height": 942
        },
        "id": "dInmyK0dVWKL",
        "outputId": "271690a2-aec7-4ef5-c17d-289053c66fb9"
      },
      "source": [
        "# Train the Neural Network and plot the accuracy\n",
        "#print(X_train.shape)\n",
        "#y_train = np.expand_dims(X_train, axis=0)\n",
        "print(X_train.shape)\n",
        "print(y_train.shape)\n",
        "history = model.fit(X_train, y_train, batch_size=32, epochs=10, validation_split=0.2)\n",
        "plt.plot(history.history['loss'])\n",
        "plt.plot(history.history['val_loss'])\n",
        "plt.title('model loss')\n",
        "plt.ylabel('loss')\n",
        "plt.xlabel('epoch')\n",
        "plt.legend(['loss', 'val_loss'], loc='upper left')\n",
        "plt.show()\n",
        "\n",
        "plt.plot(history.history['accuracy'])\n",
        "plt.plot(history.history['val_accuracy'])\n",
        "plt.title('model accuracy')\n",
        "plt.ylabel('accuracy')\n",
        "plt.xlabel('epoch')\n",
        "plt.legend(['accuracy', 'val_accuracy'], loc='upper left')\n",
        "plt.show()"
      ],
      "execution_count": 138,
      "outputs": [
        {
          "output_type": "stream",
          "name": "stdout",
          "text": [
            "(34213, 52, 52, 1)\n",
            "(34213, 8)\n",
            "Epoch 1/10\n",
            "856/856 [==============================] - 99s 115ms/step - loss: 0.4102 - accuracy: 0.3434 - val_loss: 0.3395 - val_accuracy: 0.5083\n",
            "Epoch 2/10\n",
            "856/856 [==============================] - 98s 114ms/step - loss: 0.3027 - accuracy: 0.5965 - val_loss: 0.2778 - val_accuracy: 0.6760\n",
            "Epoch 3/10\n",
            "856/856 [==============================] - 98s 115ms/step - loss: 0.2587 - accuracy: 0.6434 - val_loss: 0.2367 - val_accuracy: 0.6635\n",
            "Epoch 4/10\n",
            "856/856 [==============================] - 98s 115ms/step - loss: 0.2303 - accuracy: 0.6604 - val_loss: 0.2201 - val_accuracy: 0.6835\n",
            "Epoch 5/10\n",
            "856/856 [==============================] - 99s 116ms/step - loss: 0.2055 - accuracy: 0.6594 - val_loss: 0.1933 - val_accuracy: 0.6497\n",
            "Epoch 6/10\n",
            "856/856 [==============================] - 99s 115ms/step - loss: 0.1797 - accuracy: 0.6551 - val_loss: 0.1717 - val_accuracy: 0.6423\n",
            "Epoch 7/10\n",
            "856/856 [==============================] - 102s 119ms/step - loss: 0.1563 - accuracy: 0.6493 - val_loss: 0.1477 - val_accuracy: 0.6835\n",
            "Epoch 8/10\n",
            "856/856 [==============================] - 99s 116ms/step - loss: 0.1374 - accuracy: 0.6447 - val_loss: 0.1393 - val_accuracy: 0.7048\n",
            "Epoch 9/10\n",
            "856/856 [==============================] - 98s 115ms/step - loss: 0.1243 - accuracy: 0.6421 - val_loss: 0.1204 - val_accuracy: 0.6579\n",
            "Epoch 10/10\n",
            "856/856 [==============================] - 99s 116ms/step - loss: 0.1143 - accuracy: 0.6362 - val_loss: 0.1119 - val_accuracy: 0.6833\n"
          ]
        },
        {
          "output_type": "display_data",
          "data": {
            "image/png": "[encoded data removed]",
            "text/plain": [
              "<Figure size 432x288 with 1 Axes>"
            ]
          },
          "metadata": {
            "needs_background": "light"
          }
        },
        {
          "output_type": "display_data",
          "data": {
            "image/png": "[encoded data removed]",
            "text/plain": [
              "<Figure size 432x288 with 1 Axes>"
            ]
          },
          "metadata": {
            "needs_background": "light"
          }
        }
      ]
    },
    {
      "cell_type": "code",
      "metadata": {
        "colab": {
          "base_uri": "https://localhost:8080/"
        },
        "id": "f_6DPDEaWMyr",
        "outputId": "fa221bcb-a2e3-4972-e8f6-9357fcbd92e7"
      },
      "source": [
        "# Accuracy Evaluation\n",
        "X_test = np.expand_dims(X_test, axis=-1)  #Needed for CNN\n",
        "test_loss, test_acc = model.evaluate(X_test,  y_test, verbose=2)"
      ],
      "execution_count": 139,
      "outputs": [
        {
          "output_type": "stream",
          "name": "stdout",
          "text": [
            "119/119 - 3s - loss: 0.1127 - accuracy: 0.6623\n"
          ]
        }
      ]
    },
    {
      "cell_type": "code",
      "metadata": {
        "colab": {
          "base_uri": "https://localhost:8080/"
        },
        "id": "qY4n9RbDYXGd",
        "outputId": "87957fe6-3a83-464b-e9ce-f6197b04b51e"
      },
      "source": [
        "# Predict an input image using model\n",
        "\n",
        "## Gives a measure of confidence of each image for each class\n",
        "predictions = model.predict(X_test)\n",
        "indices_to_test = [101, 600, 2500]\n",
        "for i in indices_to_test:\n",
        "  pred_val = np.round(predictions[i], 1).astype(int)\n",
        "  #plt.figure()\n",
        "  #print(X_test[i].shape)\n",
        "  #plt.imshow(X_test[i])\n",
        "  #plt.colorbar()\n",
        "  #plt.grid(False)\n",
        "  #plt.show()\n",
        "  #print(pred_val, y_test[i])\n",
        "  print(f'Predicted = {label_extractor(pred_val)}')\n",
        "  print(f'Actual = {label_extractor(y_test[i])}')"
      ],
      "execution_count": 144,
      "outputs": [
        {
          "output_type": "stream",
          "name": "stdout",
          "text": [
            "Predicted = (['Edge Ring'], 'Medium')\n",
            "Actual = (['Edge Ring'], 'Medium')\n",
            "Predicted = (['Edge Loc', 'Scratch'], 'High')\n",
            "Actual = (['Edge Loc', 'Scratch'], 'High')\n",
            "Predicted = (['Donut', 'Edge Loc', 'Loc'], 'Very High')\n",
            "Actual = (['Donut', 'Edge Loc', 'Loc', 'Scratch'], 'Critical')\n"
          ]
        }
      ]
    }
  ]
}